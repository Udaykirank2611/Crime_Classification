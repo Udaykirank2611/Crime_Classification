{
  "cells": [
    {
      "cell_type": "markdown",
      "metadata": {
        "id": "view-in-github",
        "colab_type": "text"
      },
      "source": [
        "<a href=\"https://colab.research.google.com/github/Udaykirank2611/Crime_Classification/blob/main/CrimeCastClassifier.ipynb\" target=\"_parent\"><img src=\"https://colab.research.google.com/assets/colab-badge.svg\" alt=\"Open In Colab\"/></a>"
      ]
    },
    {
      "cell_type": "code",
      "execution_count": null,
      "metadata": {
        "colab": {
          "base_uri": "https://localhost:8080/"
        },
        "id": "5f3I9U2LKHRx",
        "outputId": "866c0843-b6c0-40d2-cbef-d318f2385325"
      },
      "outputs": [
        {
          "name": "stdout",
          "output_type": "stream",
          "text": [
            "Downloading crime-cast-forecasting-crime-categories, 1103010 bytes compressed\n",
            "[==================================================] 1103010 bytes downloaded\n",
            "Downloaded and uncompressed: crime-cast-forecasting-crime-categories\n",
            "Data source import complete.\n"
          ]
        }
      ],
      "source": [
        "\n",
        "# IMPORTANT: RUN THIS CELL IN ORDER TO IMPORT YOUR KAGGLE DATA SOURCES\n",
        "# TO THE CORRECT LOCATION (/kaggle/input) IN YOUR NOTEBOOK,\n",
        "# THEN FEEL FREE TO DELETE THIS CELL.\n",
        "# NOTE: THIS NOTEBOOK ENVIRONMENT DIFFERS FROM KAGGLE'S PYTHON\n",
        "# ENVIRONMENT SO THERE MAY BE MISSING LIBRARIES USED BY YOUR\n",
        "# NOTEBOOK.\n",
        "\n",
        "import os\n",
        "import sys\n",
        "from tempfile import NamedTemporaryFile\n",
        "from urllib.request import urlopen\n",
        "from urllib.parse import unquote, urlparse\n",
        "from urllib.error import HTTPError\n",
        "from zipfile import ZipFile\n",
        "import tarfile\n",
        "import shutil\n",
        "\n",
        "CHUNK_SIZE = 40960\n",
        "DATA_SOURCE_MAPPING = 'crime-cast-forecasting-crime-categories:https%3A%2F%2Fstorage.googleapis.com%2Fkaggle-competitions-data%2Fkaggle-v2%2F77420%2F8446444%2Fbundle%2Farchive.zip%3FX-Goog-Algorithm%3DGOOG4-RSA-SHA256%26X-Goog-Credential%3Dgcp-kaggle-com%2540kaggle-161607.iam.gserviceaccount.com%252F20240714%252Fauto%252Fstorage%252Fgoog4_request%26X-Goog-Date%3D20240714T121213Z%26X-Goog-Expires%3D259200%26X-Goog-SignedHeaders%3Dhost%26X-Goog-Signature%3D1e9ee5bebec4254fee996df40841ce7a830e99e23828c201b0007afba3e407f0a61c221f785546e9930a3966c69160b6ab180e8f28f7aa5fa8f2e8ea107c1809617ffcfe5f9db883ef9f5bad540fe130fadc5a7c3a989ba84078a79d8a7fe63f2ff14d98890b934f1cb2d19d6c31fc03263e8bb010ae0fb6984eccc56a95bbccbeafc879c353ab1d6f171bac7955bbc4e22d2c01bef363e8686963af0a0e262ec51cf599d5a2010ed2f6a851f74ee992c81007c2560d21313454d446e8a6f29452081936823bb1f11690ea9f3220c979d85fd8f4a64ca88f195491c06c206b441f6fc8e504ac0d5377ef61c0b9109e4a3f956ecc196606868f75ee23d25c1e37'\n",
        "\n",
        "KAGGLE_INPUT_PATH='/kaggle/input'\n",
        "KAGGLE_WORKING_PATH='/kaggle/working'\n",
        "KAGGLE_SYMLINK='kaggle'\n",
        "\n",
        "!umount /kaggle/input/ 2> /dev/null\n",
        "shutil.rmtree('/kaggle/input', ignore_errors=True)\n",
        "os.makedirs(KAGGLE_INPUT_PATH, 0o777, exist_ok=True)\n",
        "os.makedirs(KAGGLE_WORKING_PATH, 0o777, exist_ok=True)\n",
        "\n",
        "try:\n",
        "  os.symlink(KAGGLE_INPUT_PATH, os.path.join(\"..\", 'input'), target_is_directory=True)\n",
        "except FileExistsError:\n",
        "  pass\n",
        "try:\n",
        "  os.symlink(KAGGLE_WORKING_PATH, os.path.join(\"..\", 'working'), target_is_directory=True)\n",
        "except FileExistsError:\n",
        "  pass\n",
        "\n",
        "for data_source_mapping in DATA_SOURCE_MAPPING.split(','):\n",
        "    directory, download_url_encoded = data_source_mapping.split(':')\n",
        "    download_url = unquote(download_url_encoded)\n",
        "    filename = urlparse(download_url).path\n",
        "    destination_path = os.path.join(KAGGLE_INPUT_PATH, directory)\n",
        "    try:\n",
        "        with urlopen(download_url) as fileres, NamedTemporaryFile() as tfile:\n",
        "            total_length = fileres.headers['content-length']\n",
        "            print(f'Downloading {directory}, {total_length} bytes compressed')\n",
        "            dl = 0\n",
        "            data = fileres.read(CHUNK_SIZE)\n",
        "            while len(data) > 0:\n",
        "                dl += len(data)\n",
        "                tfile.write(data)\n",
        "                done = int(50 * dl / int(total_length))\n",
        "                sys.stdout.write(f\"\\r[{'=' * done}{' ' * (50-done)}] {dl} bytes downloaded\")\n",
        "                sys.stdout.flush()\n",
        "                data = fileres.read(CHUNK_SIZE)\n",
        "            if filename.endswith('.zip'):\n",
        "              with ZipFile(tfile) as zfile:\n",
        "                zfile.extractall(destination_path)\n",
        "            else:\n",
        "              with tarfile.open(tfile.name) as tarfile:\n",
        "                tarfile.extractall(destination_path)\n",
        "            print(f'\\nDownloaded and uncompressed: {directory}')\n",
        "    except HTTPError as e:\n",
        "        print(f'Failed to load (likely expired) {download_url} to path {destination_path}')\n",
        "        continue\n",
        "    except OSError as e:\n",
        "        print(f'Failed to load {download_url} to path {destination_path}')\n",
        "        continue\n",
        "\n",
        "print('Data source import complete.')\n"
      ]
    },
    {
      "cell_type": "markdown",
      "metadata": {
        "id": "reS9AzYLKHR1"
      },
      "source": [
        "# ***IMPORTING PACKAGES***"
      ]
    },
    {
      "cell_type": "code",
      "execution_count": null,
      "metadata": {
        "colab": {
          "base_uri": "https://localhost:8080/"
        },
        "id": "RsHrB8eVKHR3",
        "outputId": "e3fd664f-89bb-4c10-c1a2-91aae583f286"
      },
      "outputs": [
        {
          "name": "stdout",
          "output_type": "stream",
          "text": [
            "/kaggle/input/crime-cast-forecasting-crime-categories/sample.csv\n",
            "/kaggle/input/crime-cast-forecasting-crime-categories/test.csv\n",
            "/kaggle/input/crime-cast-forecasting-crime-categories/train.csv\n"
          ]
        }
      ],
      "source": [
        "# This Python 3 environment comes with many helpful analytics libraries installed\n",
        "# It is defined by the kaggle/python Docker image: https://github.com/kaggle/docker-python\n",
        "# For example, here's several helpful packages to load\n",
        "\n",
        "import numpy as np # linear algebra\n",
        "import pandas as pd # data processing, CSV file I/O (e.g. pd.read_csv)\n",
        "import seaborn as sns\n",
        "import matplotlib.pyplot as plt\n",
        "from sklearn.model_selection import StratifiedShuffleSplit\n",
        "from sklearn.preprocessing import LabelEncoder\n",
        "from sklearn.linear_model import LinearRegression\n",
        "from sklearn.ensemble  import RandomForestClassifier\n",
        "from sklearn.metrics import accuracy_score\n",
        "from sklearn.svm import SVC\n",
        "from sklearn.neighbors import KNeighborsClassifier\n",
        "from sklearn.neural_network import MLPClassifier\n",
        "from sklearn.impute import KNNImputer\n",
        "from sklearn.model_selection import GridSearchCV\n",
        "from sklearn.model_selection import cross_val_score\n",
        "\n",
        "# Input data files are available in the read-only \"../input/\" directory\n",
        "# For example, running this (by clicking run or pressing Shift+Enter) will list all files under the input directory\n",
        "\n",
        "import os\n",
        "for dirname, _, filenames in os.walk('/kaggle/input'):\n",
        "    for filename in filenames:\n",
        "        print(os.path.join(dirname, filename))\n",
        "\n",
        "# You can write up to 20GB to the current directory (/kaggle/working/) that gets preserved as output when you create a version using \"Save & Run All\"\n",
        "# You can also write temporary files to /kaggle/temp/, but they won't be saved outside of the current session"
      ]
    },
    {
      "cell_type": "markdown",
      "metadata": {
        "id": "7sSaXLN5KHR3"
      },
      "source": [
        "# ***IMPORTING DATA***"
      ]
    },
    {
      "cell_type": "code",
      "execution_count": null,
      "metadata": {
        "id": "yZ0zws4FKHR4"
      },
      "outputs": [],
      "source": [
        "df = pd.read_csv('/kaggle/input/crime-cast-forecasting-crime-categories/train.csv')\n",
        "sample = pd.read_csv(\"/kaggle/input/crime-cast-forecasting-crime-categories/sample.csv\")\n",
        "x_test = pd.read_csv(\"/kaggle/input/crime-cast-forecasting-crime-categories/test.csv\")"
      ]
    },
    {
      "cell_type": "markdown",
      "metadata": {
        "id": "YThpZAcAKHR4"
      },
      "source": [
        "# ***Exploratory Data Analysis(EDA)***"
      ]
    },
    {
      "cell_type": "code",
      "execution_count": null,
      "metadata": {
        "colab": {
          "base_uri": "https://localhost:8080/"
        },
        "id": "xlYAyBsTKHR4",
        "outputId": "4ef18327-de4a-4b07-9844-639fb2ae7f9a"
      },
      "outputs": [
        {
          "data": {
            "text/plain": [
              "(20000, 22)"
            ]
          },
          "execution_count": 6,
          "metadata": {},
          "output_type": "execute_result"
        }
      ],
      "source": [
        "df.shape"
      ]
    },
    {
      "cell_type": "code",
      "execution_count": null,
      "metadata": {
        "colab": {
          "base_uri": "https://localhost:8080/"
        },
        "id": "n0WfkURwKHR5",
        "outputId": "0303a210-bb7e-445a-d8e9-a71c3a857406"
      },
      "outputs": [
        {
          "name": "stdout",
          "output_type": "stream",
          "text": [
            "<class 'pandas.core.frame.DataFrame'>\n",
            "RangeIndex: 20000 entries, 0 to 19999\n",
            "Data columns (total 22 columns):\n",
            " #   Column                 Non-Null Count  Dtype  \n",
            "---  ------                 --------------  -----  \n",
            " 0   Location               20000 non-null  object \n",
            " 1   Cross_Street           3448 non-null   object \n",
            " 2   Latitude               20000 non-null  float64\n",
            " 3   Longitude              20000 non-null  float64\n",
            " 4   Date_Reported          20000 non-null  object \n",
            " 5   Date_Occurred          20000 non-null  object \n",
            " 6   Time_Occurred          20000 non-null  float64\n",
            " 7   Area_ID                20000 non-null  float64\n",
            " 8   Area_Name              20000 non-null  object \n",
            " 9   Reporting_District_no  20000 non-null  float64\n",
            " 10  Part 1-2               20000 non-null  float64\n",
            " 11  Modus_Operandi         17259 non-null  object \n",
            " 12  Victim_Age             20000 non-null  float64\n",
            " 13  Victim_Sex             17376 non-null  object \n",
            " 14  Victim_Descent         17376 non-null  object \n",
            " 15  Premise_Code           20000 non-null  float64\n",
            " 16  Premise_Description    19995 non-null  object \n",
            " 17  Weapon_Used_Code       7335 non-null   float64\n",
            " 18  Weapon_Description     7335 non-null   object \n",
            " 19  Status                 20000 non-null  object \n",
            " 20  Status_Description     20000 non-null  object \n",
            " 21  Crime_Category         20000 non-null  object \n",
            "dtypes: float64(9), object(13)\n",
            "memory usage: 3.4+ MB\n"
          ]
        }
      ],
      "source": [
        "df.info()"
      ]
    },
    {
      "cell_type": "code",
      "execution_count": null,
      "metadata": {
        "colab": {
          "base_uri": "https://localhost:8080/",
          "height": 429
        },
        "id": "a32x4KQ6KHR5",
        "outputId": "209fe45e-6daf-444a-b132-e1aee04d3094"
      },
      "outputs": [
        {
          "data": {
            "application/vnd.google.colaboratory.intrinsic+json": {
              "type": "dataframe",
              "variable_name": "df"
            },
            "text/html": [
              "\n",
              "  <div id=\"df-48bc0a03-90d9-45d1-85e2-725f70aa5796\" class=\"colab-df-container\">\n",
              "    <div>\n",
              "<style scoped>\n",
              "    .dataframe tbody tr th:only-of-type {\n",
              "        vertical-align: middle;\n",
              "    }\n",
              "\n",
              "    .dataframe tbody tr th {\n",
              "        vertical-align: top;\n",
              "    }\n",
              "\n",
              "    .dataframe thead th {\n",
              "        text-align: right;\n",
              "    }\n",
              "</style>\n",
              "<table border=\"1\" class=\"dataframe\">\n",
              "  <thead>\n",
              "    <tr style=\"text-align: right;\">\n",
              "      <th></th>\n",
              "      <th>Location</th>\n",
              "      <th>Cross_Street</th>\n",
              "      <th>Latitude</th>\n",
              "      <th>Longitude</th>\n",
              "      <th>Date_Reported</th>\n",
              "      <th>Date_Occurred</th>\n",
              "      <th>Time_Occurred</th>\n",
              "      <th>Area_ID</th>\n",
              "      <th>Area_Name</th>\n",
              "      <th>Reporting_District_no</th>\n",
              "      <th>...</th>\n",
              "      <th>Victim_Age</th>\n",
              "      <th>Victim_Sex</th>\n",
              "      <th>Victim_Descent</th>\n",
              "      <th>Premise_Code</th>\n",
              "      <th>Premise_Description</th>\n",
              "      <th>Weapon_Used_Code</th>\n",
              "      <th>Weapon_Description</th>\n",
              "      <th>Status</th>\n",
              "      <th>Status_Description</th>\n",
              "      <th>Crime_Category</th>\n",
              "    </tr>\n",
              "  </thead>\n",
              "  <tbody>\n",
              "    <tr>\n",
              "      <th>0</th>\n",
              "      <td>4500    CARPENTER                    AV</td>\n",
              "      <td>NaN</td>\n",
              "      <td>34.1522</td>\n",
              "      <td>-118.3910</td>\n",
              "      <td>03/09/2020 12:00:00 AM</td>\n",
              "      <td>03/06/2020 12:00:00 AM</td>\n",
              "      <td>1800.0</td>\n",
              "      <td>15.0</td>\n",
              "      <td>N Hollywood</td>\n",
              "      <td>1563.0</td>\n",
              "      <td>...</td>\n",
              "      <td>75.0</td>\n",
              "      <td>M</td>\n",
              "      <td>W</td>\n",
              "      <td>101.0</td>\n",
              "      <td>STREET</td>\n",
              "      <td>NaN</td>\n",
              "      <td>NaN</td>\n",
              "      <td>IC</td>\n",
              "      <td>Invest Cont</td>\n",
              "      <td>Property Crimes</td>\n",
              "    </tr>\n",
              "    <tr>\n",
              "      <th>1</th>\n",
              "      <td>45TH                         ST</td>\n",
              "      <td>ALAMEDA                      ST</td>\n",
              "      <td>34.0028</td>\n",
              "      <td>-118.2391</td>\n",
              "      <td>02/27/2020 12:00:00 AM</td>\n",
              "      <td>02/27/2020 12:00:00 AM</td>\n",
              "      <td>1345.0</td>\n",
              "      <td>13.0</td>\n",
              "      <td>Newton</td>\n",
              "      <td>1367.0</td>\n",
              "      <td>...</td>\n",
              "      <td>41.0</td>\n",
              "      <td>M</td>\n",
              "      <td>H</td>\n",
              "      <td>216.0</td>\n",
              "      <td>SWAP MEET</td>\n",
              "      <td>400.0</td>\n",
              "      <td>STRONG-ARM (HANDS, FIST, FEET OR BODILY FORCE)</td>\n",
              "      <td>IC</td>\n",
              "      <td>Invest Cont</td>\n",
              "      <td>Property Crimes</td>\n",
              "    </tr>\n",
              "    <tr>\n",
              "      <th>2</th>\n",
              "      <td>600 E  MARTIN LUTHER KING JR        BL</td>\n",
              "      <td>NaN</td>\n",
              "      <td>34.0111</td>\n",
              "      <td>-118.2653</td>\n",
              "      <td>08/21/2020 12:00:00 AM</td>\n",
              "      <td>08/21/2020 12:00:00 AM</td>\n",
              "      <td>605.0</td>\n",
              "      <td>13.0</td>\n",
              "      <td>Newton</td>\n",
              "      <td>1343.0</td>\n",
              "      <td>...</td>\n",
              "      <td>67.0</td>\n",
              "      <td>M</td>\n",
              "      <td>B</td>\n",
              "      <td>501.0</td>\n",
              "      <td>SINGLE FAMILY DWELLING</td>\n",
              "      <td>NaN</td>\n",
              "      <td>NaN</td>\n",
              "      <td>IC</td>\n",
              "      <td>Invest Cont</td>\n",
              "      <td>Property Crimes</td>\n",
              "    </tr>\n",
              "    <tr>\n",
              "      <th>3</th>\n",
              "      <td>14900    ORO GRANDE                   ST</td>\n",
              "      <td>NaN</td>\n",
              "      <td>34.2953</td>\n",
              "      <td>-118.4590</td>\n",
              "      <td>11/08/2020 12:00:00 AM</td>\n",
              "      <td>11/06/2020 12:00:00 AM</td>\n",
              "      <td>1800.0</td>\n",
              "      <td>19.0</td>\n",
              "      <td>Mission</td>\n",
              "      <td>1924.0</td>\n",
              "      <td>...</td>\n",
              "      <td>61.0</td>\n",
              "      <td>M</td>\n",
              "      <td>H</td>\n",
              "      <td>101.0</td>\n",
              "      <td>STREET</td>\n",
              "      <td>NaN</td>\n",
              "      <td>NaN</td>\n",
              "      <td>IC</td>\n",
              "      <td>Invest Cont</td>\n",
              "      <td>Property Crimes</td>\n",
              "    </tr>\n",
              "    <tr>\n",
              "      <th>4</th>\n",
              "      <td>7100 S  VERMONT                      AV</td>\n",
              "      <td>NaN</td>\n",
              "      <td>33.9787</td>\n",
              "      <td>-118.2918</td>\n",
              "      <td>02/25/2020 12:00:00 AM</td>\n",
              "      <td>02/25/2020 12:00:00 AM</td>\n",
              "      <td>1130.0</td>\n",
              "      <td>12.0</td>\n",
              "      <td>77th Street</td>\n",
              "      <td>1245.0</td>\n",
              "      <td>...</td>\n",
              "      <td>0.0</td>\n",
              "      <td>X</td>\n",
              "      <td>X</td>\n",
              "      <td>401.0</td>\n",
              "      <td>MINI-MART</td>\n",
              "      <td>400.0</td>\n",
              "      <td>STRONG-ARM (HANDS, FIST, FEET OR BODILY FORCE)</td>\n",
              "      <td>IC</td>\n",
              "      <td>Invest Cont</td>\n",
              "      <td>Property Crimes</td>\n",
              "    </tr>\n",
              "  </tbody>\n",
              "</table>\n",
              "<p>5 rows × 22 columns</p>\n",
              "</div>\n",
              "    <div class=\"colab-df-buttons\">\n",
              "\n",
              "  <div class=\"colab-df-container\">\n",
              "    <button class=\"colab-df-convert\" onclick=\"convertToInteractive('df-48bc0a03-90d9-45d1-85e2-725f70aa5796')\"\n",
              "            title=\"Convert this dataframe to an interactive table.\"\n",
              "            style=\"display:none;\">\n",
              "\n",
              "  <svg xmlns=\"http://www.w3.org/2000/svg\" height=\"24px\" viewBox=\"0 -960 960 960\">\n",
              "    <path d=\"M120-120v-720h720v720H120Zm60-500h600v-160H180v160Zm220 220h160v-160H400v160Zm0 220h160v-160H400v160ZM180-400h160v-160H180v160Zm440 0h160v-160H620v160ZM180-180h160v-160H180v160Zm440 0h160v-160H620v160Z\"/>\n",
              "  </svg>\n",
              "    </button>\n",
              "\n",
              "  <style>\n",
              "    .colab-df-container {\n",
              "      display:flex;\n",
              "      gap: 12px;\n",
              "    }\n",
              "\n",
              "    .colab-df-convert {\n",
              "      background-color: #E8F0FE;\n",
              "      border: none;\n",
              "      border-radius: 50%;\n",
              "      cursor: pointer;\n",
              "      display: none;\n",
              "      fill: #1967D2;\n",
              "      height: 32px;\n",
              "      padding: 0 0 0 0;\n",
              "      width: 32px;\n",
              "    }\n",
              "\n",
              "    .colab-df-convert:hover {\n",
              "      background-color: #E2EBFA;\n",
              "      box-shadow: 0px 1px 2px rgba(60, 64, 67, 0.3), 0px 1px 3px 1px rgba(60, 64, 67, 0.15);\n",
              "      fill: #174EA6;\n",
              "    }\n",
              "\n",
              "    .colab-df-buttons div {\n",
              "      margin-bottom: 4px;\n",
              "    }\n",
              "\n",
              "    [theme=dark] .colab-df-convert {\n",
              "      background-color: #3B4455;\n",
              "      fill: #D2E3FC;\n",
              "    }\n",
              "\n",
              "    [theme=dark] .colab-df-convert:hover {\n",
              "      background-color: #434B5C;\n",
              "      box-shadow: 0px 1px 3px 1px rgba(0, 0, 0, 0.15);\n",
              "      filter: drop-shadow(0px 1px 2px rgba(0, 0, 0, 0.3));\n",
              "      fill: #FFFFFF;\n",
              "    }\n",
              "  </style>\n",
              "\n",
              "    <script>\n",
              "      const buttonEl =\n",
              "        document.querySelector('#df-48bc0a03-90d9-45d1-85e2-725f70aa5796 button.colab-df-convert');\n",
              "      buttonEl.style.display =\n",
              "        google.colab.kernel.accessAllowed ? 'block' : 'none';\n",
              "\n",
              "      async function convertToInteractive(key) {\n",
              "        const element = document.querySelector('#df-48bc0a03-90d9-45d1-85e2-725f70aa5796');\n",
              "        const dataTable =\n",
              "          await google.colab.kernel.invokeFunction('convertToInteractive',\n",
              "                                                    [key], {});\n",
              "        if (!dataTable) return;\n",
              "\n",
              "        const docLinkHtml = 'Like what you see? Visit the ' +\n",
              "          '<a target=\"_blank\" href=https://colab.research.google.com/notebooks/data_table.ipynb>data table notebook</a>'\n",
              "          + ' to learn more about interactive tables.';\n",
              "        element.innerHTML = '';\n",
              "        dataTable['output_type'] = 'display_data';\n",
              "        await google.colab.output.renderOutput(dataTable, element);\n",
              "        const docLink = document.createElement('div');\n",
              "        docLink.innerHTML = docLinkHtml;\n",
              "        element.appendChild(docLink);\n",
              "      }\n",
              "    </script>\n",
              "  </div>\n",
              "\n",
              "\n",
              "<div id=\"df-2bc7368f-7c31-41a3-af14-857f2dc7e2bb\">\n",
              "  <button class=\"colab-df-quickchart\" onclick=\"quickchart('df-2bc7368f-7c31-41a3-af14-857f2dc7e2bb')\"\n",
              "            title=\"Suggest charts\"\n",
              "            style=\"display:none;\">\n",
              "\n",
              "<svg xmlns=\"http://www.w3.org/2000/svg\" height=\"24px\"viewBox=\"0 0 24 24\"\n",
              "     width=\"24px\">\n",
              "    <g>\n",
              "        <path d=\"M19 3H5c-1.1 0-2 .9-2 2v14c0 1.1.9 2 2 2h14c1.1 0 2-.9 2-2V5c0-1.1-.9-2-2-2zM9 17H7v-7h2v7zm4 0h-2V7h2v10zm4 0h-2v-4h2v4z\"/>\n",
              "    </g>\n",
              "</svg>\n",
              "  </button>\n",
              "\n",
              "<style>\n",
              "  .colab-df-quickchart {\n",
              "      --bg-color: #E8F0FE;\n",
              "      --fill-color: #1967D2;\n",
              "      --hover-bg-color: #E2EBFA;\n",
              "      --hover-fill-color: #174EA6;\n",
              "      --disabled-fill-color: #AAA;\n",
              "      --disabled-bg-color: #DDD;\n",
              "  }\n",
              "\n",
              "  [theme=dark] .colab-df-quickchart {\n",
              "      --bg-color: #3B4455;\n",
              "      --fill-color: #D2E3FC;\n",
              "      --hover-bg-color: #434B5C;\n",
              "      --hover-fill-color: #FFFFFF;\n",
              "      --disabled-bg-color: #3B4455;\n",
              "      --disabled-fill-color: #666;\n",
              "  }\n",
              "\n",
              "  .colab-df-quickchart {\n",
              "    background-color: var(--bg-color);\n",
              "    border: none;\n",
              "    border-radius: 50%;\n",
              "    cursor: pointer;\n",
              "    display: none;\n",
              "    fill: var(--fill-color);\n",
              "    height: 32px;\n",
              "    padding: 0;\n",
              "    width: 32px;\n",
              "  }\n",
              "\n",
              "  .colab-df-quickchart:hover {\n",
              "    background-color: var(--hover-bg-color);\n",
              "    box-shadow: 0 1px 2px rgba(60, 64, 67, 0.3), 0 1px 3px 1px rgba(60, 64, 67, 0.15);\n",
              "    fill: var(--button-hover-fill-color);\n",
              "  }\n",
              "\n",
              "  .colab-df-quickchart-complete:disabled,\n",
              "  .colab-df-quickchart-complete:disabled:hover {\n",
              "    background-color: var(--disabled-bg-color);\n",
              "    fill: var(--disabled-fill-color);\n",
              "    box-shadow: none;\n",
              "  }\n",
              "\n",
              "  .colab-df-spinner {\n",
              "    border: 2px solid var(--fill-color);\n",
              "    border-color: transparent;\n",
              "    border-bottom-color: var(--fill-color);\n",
              "    animation:\n",
              "      spin 1s steps(1) infinite;\n",
              "  }\n",
              "\n",
              "  @keyframes spin {\n",
              "    0% {\n",
              "      border-color: transparent;\n",
              "      border-bottom-color: var(--fill-color);\n",
              "      border-left-color: var(--fill-color);\n",
              "    }\n",
              "    20% {\n",
              "      border-color: transparent;\n",
              "      border-left-color: var(--fill-color);\n",
              "      border-top-color: var(--fill-color);\n",
              "    }\n",
              "    30% {\n",
              "      border-color: transparent;\n",
              "      border-left-color: var(--fill-color);\n",
              "      border-top-color: var(--fill-color);\n",
              "      border-right-color: var(--fill-color);\n",
              "    }\n",
              "    40% {\n",
              "      border-color: transparent;\n",
              "      border-right-color: var(--fill-color);\n",
              "      border-top-color: var(--fill-color);\n",
              "    }\n",
              "    60% {\n",
              "      border-color: transparent;\n",
              "      border-right-color: var(--fill-color);\n",
              "    }\n",
              "    80% {\n",
              "      border-color: transparent;\n",
              "      border-right-color: var(--fill-color);\n",
              "      border-bottom-color: var(--fill-color);\n",
              "    }\n",
              "    90% {\n",
              "      border-color: transparent;\n",
              "      border-bottom-color: var(--fill-color);\n",
              "    }\n",
              "  }\n",
              "</style>\n",
              "\n",
              "  <script>\n",
              "    async function quickchart(key) {\n",
              "      const quickchartButtonEl =\n",
              "        document.querySelector('#' + key + ' button');\n",
              "      quickchartButtonEl.disabled = true;  // To prevent multiple clicks.\n",
              "      quickchartButtonEl.classList.add('colab-df-spinner');\n",
              "      try {\n",
              "        const charts = await google.colab.kernel.invokeFunction(\n",
              "            'suggestCharts', [key], {});\n",
              "      } catch (error) {\n",
              "        console.error('Error during call to suggestCharts:', error);\n",
              "      }\n",
              "      quickchartButtonEl.classList.remove('colab-df-spinner');\n",
              "      quickchartButtonEl.classList.add('colab-df-quickchart-complete');\n",
              "    }\n",
              "    (() => {\n",
              "      let quickchartButtonEl =\n",
              "        document.querySelector('#df-2bc7368f-7c31-41a3-af14-857f2dc7e2bb button');\n",
              "      quickchartButtonEl.style.display =\n",
              "        google.colab.kernel.accessAllowed ? 'block' : 'none';\n",
              "    })();\n",
              "  </script>\n",
              "</div>\n",
              "\n",
              "    </div>\n",
              "  </div>\n"
            ],
            "text/plain": [
              "                                   Location                     Cross_Street  \\\n",
              "0   4500    CARPENTER                    AV                              NaN   \n",
              "1           45TH                         ST  ALAMEDA                      ST   \n",
              "2    600 E  MARTIN LUTHER KING JR        BL                              NaN   \n",
              "3  14900    ORO GRANDE                   ST                              NaN   \n",
              "4   7100 S  VERMONT                      AV                              NaN   \n",
              "\n",
              "   Latitude  Longitude           Date_Reported           Date_Occurred  \\\n",
              "0   34.1522  -118.3910  03/09/2020 12:00:00 AM  03/06/2020 12:00:00 AM   \n",
              "1   34.0028  -118.2391  02/27/2020 12:00:00 AM  02/27/2020 12:00:00 AM   \n",
              "2   34.0111  -118.2653  08/21/2020 12:00:00 AM  08/21/2020 12:00:00 AM   \n",
              "3   34.2953  -118.4590  11/08/2020 12:00:00 AM  11/06/2020 12:00:00 AM   \n",
              "4   33.9787  -118.2918  02/25/2020 12:00:00 AM  02/25/2020 12:00:00 AM   \n",
              "\n",
              "   Time_Occurred  Area_ID    Area_Name  Reporting_District_no  ...  \\\n",
              "0         1800.0     15.0  N Hollywood                 1563.0  ...   \n",
              "1         1345.0     13.0       Newton                 1367.0  ...   \n",
              "2          605.0     13.0       Newton                 1343.0  ...   \n",
              "3         1800.0     19.0      Mission                 1924.0  ...   \n",
              "4         1130.0     12.0  77th Street                 1245.0  ...   \n",
              "\n",
              "   Victim_Age Victim_Sex  Victim_Descent Premise_Code     Premise_Description  \\\n",
              "0        75.0          M               W        101.0                  STREET   \n",
              "1        41.0          M               H        216.0               SWAP MEET   \n",
              "2        67.0          M               B        501.0  SINGLE FAMILY DWELLING   \n",
              "3        61.0          M               H        101.0                  STREET   \n",
              "4         0.0          X               X        401.0               MINI-MART   \n",
              "\n",
              "   Weapon_Used_Code                              Weapon_Description  Status  \\\n",
              "0               NaN                                             NaN      IC   \n",
              "1             400.0  STRONG-ARM (HANDS, FIST, FEET OR BODILY FORCE)      IC   \n",
              "2               NaN                                             NaN      IC   \n",
              "3               NaN                                             NaN      IC   \n",
              "4             400.0  STRONG-ARM (HANDS, FIST, FEET OR BODILY FORCE)      IC   \n",
              "\n",
              "  Status_Description   Crime_Category  \n",
              "0        Invest Cont  Property Crimes  \n",
              "1        Invest Cont  Property Crimes  \n",
              "2        Invest Cont  Property Crimes  \n",
              "3        Invest Cont  Property Crimes  \n",
              "4        Invest Cont  Property Crimes  \n",
              "\n",
              "[5 rows x 22 columns]"
            ]
          },
          "execution_count": 8,
          "metadata": {},
          "output_type": "execute_result"
        }
      ],
      "source": [
        "df.head()"
      ]
    },
    {
      "cell_type": "code",
      "execution_count": null,
      "metadata": {
        "colab": {
          "base_uri": "https://localhost:8080/",
          "height": 394
        },
        "id": "JT7nOYQfKHR5",
        "outputId": "dfa82d36-25db-4a95-855b-fdf3e04c73e6"
      },
      "outputs": [
        {
          "data": {
            "application/vnd.google.colaboratory.intrinsic+json": {
              "type": "dataframe"
            },
            "text/html": [
              "\n",
              "  <div id=\"df-3170c6c6-1bcf-4bfa-baaa-ac9a9892b46b\" class=\"colab-df-container\">\n",
              "    <div>\n",
              "<style scoped>\n",
              "    .dataframe tbody tr th:only-of-type {\n",
              "        vertical-align: middle;\n",
              "    }\n",
              "\n",
              "    .dataframe tbody tr th {\n",
              "        vertical-align: top;\n",
              "    }\n",
              "\n",
              "    .dataframe thead th {\n",
              "        text-align: right;\n",
              "    }\n",
              "</style>\n",
              "<table border=\"1\" class=\"dataframe\">\n",
              "  <thead>\n",
              "    <tr style=\"text-align: right;\">\n",
              "      <th></th>\n",
              "      <th>Location</th>\n",
              "      <th>Cross_Street</th>\n",
              "      <th>Latitude</th>\n",
              "      <th>Longitude</th>\n",
              "      <th>Date_Reported</th>\n",
              "      <th>Date_Occurred</th>\n",
              "      <th>Time_Occurred</th>\n",
              "      <th>Area_ID</th>\n",
              "      <th>Area_Name</th>\n",
              "      <th>Reporting_District_no</th>\n",
              "      <th>...</th>\n",
              "      <th>Victim_Age</th>\n",
              "      <th>Victim_Sex</th>\n",
              "      <th>Victim_Descent</th>\n",
              "      <th>Premise_Code</th>\n",
              "      <th>Premise_Description</th>\n",
              "      <th>Weapon_Used_Code</th>\n",
              "      <th>Weapon_Description</th>\n",
              "      <th>Status</th>\n",
              "      <th>Status_Description</th>\n",
              "      <th>Crime_Category</th>\n",
              "    </tr>\n",
              "  </thead>\n",
              "  <tbody>\n",
              "    <tr>\n",
              "      <th>19995</th>\n",
              "      <td>5100 W  ADAMS                        BL</td>\n",
              "      <td>NaN</td>\n",
              "      <td>34.0334</td>\n",
              "      <td>-118.3523</td>\n",
              "      <td>05/24/2020 12:00:00 AM</td>\n",
              "      <td>05/24/2020 12:00:00 AM</td>\n",
              "      <td>700.0</td>\n",
              "      <td>3.0</td>\n",
              "      <td>Southwest</td>\n",
              "      <td>303.0</td>\n",
              "      <td>...</td>\n",
              "      <td>51.0</td>\n",
              "      <td>M</td>\n",
              "      <td>H</td>\n",
              "      <td>501.0</td>\n",
              "      <td>SINGLE FAMILY DWELLING</td>\n",
              "      <td>400.0</td>\n",
              "      <td>STRONG-ARM (HANDS, FIST, FEET OR BODILY FORCE)</td>\n",
              "      <td>IC</td>\n",
              "      <td>Invest Cont</td>\n",
              "      <td>Violent Crimes</td>\n",
              "    </tr>\n",
              "    <tr>\n",
              "      <th>19996</th>\n",
              "      <td>16900    ROSCOE                       BL</td>\n",
              "      <td>NaN</td>\n",
              "      <td>34.2212</td>\n",
              "      <td>-118.5011</td>\n",
              "      <td>12/25/2020 12:00:00 AM</td>\n",
              "      <td>12/25/2020 12:00:00 AM</td>\n",
              "      <td>259.0</td>\n",
              "      <td>10.0</td>\n",
              "      <td>West Valley</td>\n",
              "      <td>1008.0</td>\n",
              "      <td>...</td>\n",
              "      <td>0.0</td>\n",
              "      <td>M</td>\n",
              "      <td>W</td>\n",
              "      <td>301.0</td>\n",
              "      <td>GAS STATION</td>\n",
              "      <td>NaN</td>\n",
              "      <td>NaN</td>\n",
              "      <td>IC</td>\n",
              "      <td>Invest Cont</td>\n",
              "      <td>Property Crimes</td>\n",
              "    </tr>\n",
              "    <tr>\n",
              "      <th>19997</th>\n",
              "      <td>1000 S  SHENANDOAH                   ST</td>\n",
              "      <td>NaN</td>\n",
              "      <td>34.0571</td>\n",
              "      <td>-118.3815</td>\n",
              "      <td>09/25/2020 12:00:00 AM</td>\n",
              "      <td>09/25/2020 12:00:00 AM</td>\n",
              "      <td>1400.0</td>\n",
              "      <td>8.0</td>\n",
              "      <td>West LA</td>\n",
              "      <td>849.0</td>\n",
              "      <td>...</td>\n",
              "      <td>42.0</td>\n",
              "      <td>M</td>\n",
              "      <td>H</td>\n",
              "      <td>102.0</td>\n",
              "      <td>SIDEWALK</td>\n",
              "      <td>NaN</td>\n",
              "      <td>NaN</td>\n",
              "      <td>IC</td>\n",
              "      <td>Invest Cont</td>\n",
              "      <td>Property Crimes</td>\n",
              "    </tr>\n",
              "    <tr>\n",
              "      <th>19998</th>\n",
              "      <td>300 W  SEPULVEDA                    ST</td>\n",
              "      <td>NaN</td>\n",
              "      <td>33.7451</td>\n",
              "      <td>-118.2835</td>\n",
              "      <td>06/10/2020 12:00:00 AM</td>\n",
              "      <td>06/10/2020 12:00:00 AM</td>\n",
              "      <td>600.0</td>\n",
              "      <td>5.0</td>\n",
              "      <td>Harbor</td>\n",
              "      <td>558.0</td>\n",
              "      <td>...</td>\n",
              "      <td>76.0</td>\n",
              "      <td>F</td>\n",
              "      <td>H</td>\n",
              "      <td>501.0</td>\n",
              "      <td>SINGLE FAMILY DWELLING</td>\n",
              "      <td>NaN</td>\n",
              "      <td>NaN</td>\n",
              "      <td>IC</td>\n",
              "      <td>Invest Cont</td>\n",
              "      <td>Crimes against Public Order</td>\n",
              "    </tr>\n",
              "    <tr>\n",
              "      <th>19999</th>\n",
              "      <td>DALTON                       AV</td>\n",
              "      <td>VERNON                       AV</td>\n",
              "      <td>34.0037</td>\n",
              "      <td>-118.3034</td>\n",
              "      <td>02/18/2020 12:00:00 AM</td>\n",
              "      <td>02/17/2020 12:00:00 AM</td>\n",
              "      <td>1800.0</td>\n",
              "      <td>3.0</td>\n",
              "      <td>Southwest</td>\n",
              "      <td>397.0</td>\n",
              "      <td>...</td>\n",
              "      <td>0.0</td>\n",
              "      <td>NaN</td>\n",
              "      <td>NaN</td>\n",
              "      <td>101.0</td>\n",
              "      <td>STREET</td>\n",
              "      <td>NaN</td>\n",
              "      <td>NaN</td>\n",
              "      <td>IC</td>\n",
              "      <td>Invest Cont</td>\n",
              "      <td>Property Crimes</td>\n",
              "    </tr>\n",
              "  </tbody>\n",
              "</table>\n",
              "<p>5 rows × 22 columns</p>\n",
              "</div>\n",
              "    <div class=\"colab-df-buttons\">\n",
              "\n",
              "  <div class=\"colab-df-container\">\n",
              "    <button class=\"colab-df-convert\" onclick=\"convertToInteractive('df-3170c6c6-1bcf-4bfa-baaa-ac9a9892b46b')\"\n",
              "            title=\"Convert this dataframe to an interactive table.\"\n",
              "            style=\"display:none;\">\n",
              "\n",
              "  <svg xmlns=\"http://www.w3.org/2000/svg\" height=\"24px\" viewBox=\"0 -960 960 960\">\n",
              "    <path d=\"M120-120v-720h720v720H120Zm60-500h600v-160H180v160Zm220 220h160v-160H400v160Zm0 220h160v-160H400v160ZM180-400h160v-160H180v160Zm440 0h160v-160H620v160ZM180-180h160v-160H180v160Zm440 0h160v-160H620v160Z\"/>\n",
              "  </svg>\n",
              "    </button>\n",
              "\n",
              "  <style>\n",
              "    .colab-df-container {\n",
              "      display:flex;\n",
              "      gap: 12px;\n",
              "    }\n",
              "\n",
              "    .colab-df-convert {\n",
              "      background-color: #E8F0FE;\n",
              "      border: none;\n",
              "      border-radius: 50%;\n",
              "      cursor: pointer;\n",
              "      display: none;\n",
              "      fill: #1967D2;\n",
              "      height: 32px;\n",
              "      padding: 0 0 0 0;\n",
              "      width: 32px;\n",
              "    }\n",
              "\n",
              "    .colab-df-convert:hover {\n",
              "      background-color: #E2EBFA;\n",
              "      box-shadow: 0px 1px 2px rgba(60, 64, 67, 0.3), 0px 1px 3px 1px rgba(60, 64, 67, 0.15);\n",
              "      fill: #174EA6;\n",
              "    }\n",
              "\n",
              "    .colab-df-buttons div {\n",
              "      margin-bottom: 4px;\n",
              "    }\n",
              "\n",
              "    [theme=dark] .colab-df-convert {\n",
              "      background-color: #3B4455;\n",
              "      fill: #D2E3FC;\n",
              "    }\n",
              "\n",
              "    [theme=dark] .colab-df-convert:hover {\n",
              "      background-color: #434B5C;\n",
              "      box-shadow: 0px 1px 3px 1px rgba(0, 0, 0, 0.15);\n",
              "      filter: drop-shadow(0px 1px 2px rgba(0, 0, 0, 0.3));\n",
              "      fill: #FFFFFF;\n",
              "    }\n",
              "  </style>\n",
              "\n",
              "    <script>\n",
              "      const buttonEl =\n",
              "        document.querySelector('#df-3170c6c6-1bcf-4bfa-baaa-ac9a9892b46b button.colab-df-convert');\n",
              "      buttonEl.style.display =\n",
              "        google.colab.kernel.accessAllowed ? 'block' : 'none';\n",
              "\n",
              "      async function convertToInteractive(key) {\n",
              "        const element = document.querySelector('#df-3170c6c6-1bcf-4bfa-baaa-ac9a9892b46b');\n",
              "        const dataTable =\n",
              "          await google.colab.kernel.invokeFunction('convertToInteractive',\n",
              "                                                    [key], {});\n",
              "        if (!dataTable) return;\n",
              "\n",
              "        const docLinkHtml = 'Like what you see? Visit the ' +\n",
              "          '<a target=\"_blank\" href=https://colab.research.google.com/notebooks/data_table.ipynb>data table notebook</a>'\n",
              "          + ' to learn more about interactive tables.';\n",
              "        element.innerHTML = '';\n",
              "        dataTable['output_type'] = 'display_data';\n",
              "        await google.colab.output.renderOutput(dataTable, element);\n",
              "        const docLink = document.createElement('div');\n",
              "        docLink.innerHTML = docLinkHtml;\n",
              "        element.appendChild(docLink);\n",
              "      }\n",
              "    </script>\n",
              "  </div>\n",
              "\n",
              "\n",
              "<div id=\"df-9a829510-af2f-44ea-815c-8e7726c096a2\">\n",
              "  <button class=\"colab-df-quickchart\" onclick=\"quickchart('df-9a829510-af2f-44ea-815c-8e7726c096a2')\"\n",
              "            title=\"Suggest charts\"\n",
              "            style=\"display:none;\">\n",
              "\n",
              "<svg xmlns=\"http://www.w3.org/2000/svg\" height=\"24px\"viewBox=\"0 0 24 24\"\n",
              "     width=\"24px\">\n",
              "    <g>\n",
              "        <path d=\"M19 3H5c-1.1 0-2 .9-2 2v14c0 1.1.9 2 2 2h14c1.1 0 2-.9 2-2V5c0-1.1-.9-2-2-2zM9 17H7v-7h2v7zm4 0h-2V7h2v10zm4 0h-2v-4h2v4z\"/>\n",
              "    </g>\n",
              "</svg>\n",
              "  </button>\n",
              "\n",
              "<style>\n",
              "  .colab-df-quickchart {\n",
              "      --bg-color: #E8F0FE;\n",
              "      --fill-color: #1967D2;\n",
              "      --hover-bg-color: #E2EBFA;\n",
              "      --hover-fill-color: #174EA6;\n",
              "      --disabled-fill-color: #AAA;\n",
              "      --disabled-bg-color: #DDD;\n",
              "  }\n",
              "\n",
              "  [theme=dark] .colab-df-quickchart {\n",
              "      --bg-color: #3B4455;\n",
              "      --fill-color: #D2E3FC;\n",
              "      --hover-bg-color: #434B5C;\n",
              "      --hover-fill-color: #FFFFFF;\n",
              "      --disabled-bg-color: #3B4455;\n",
              "      --disabled-fill-color: #666;\n",
              "  }\n",
              "\n",
              "  .colab-df-quickchart {\n",
              "    background-color: var(--bg-color);\n",
              "    border: none;\n",
              "    border-radius: 50%;\n",
              "    cursor: pointer;\n",
              "    display: none;\n",
              "    fill: var(--fill-color);\n",
              "    height: 32px;\n",
              "    padding: 0;\n",
              "    width: 32px;\n",
              "  }\n",
              "\n",
              "  .colab-df-quickchart:hover {\n",
              "    background-color: var(--hover-bg-color);\n",
              "    box-shadow: 0 1px 2px rgba(60, 64, 67, 0.3), 0 1px 3px 1px rgba(60, 64, 67, 0.15);\n",
              "    fill: var(--button-hover-fill-color);\n",
              "  }\n",
              "\n",
              "  .colab-df-quickchart-complete:disabled,\n",
              "  .colab-df-quickchart-complete:disabled:hover {\n",
              "    background-color: var(--disabled-bg-color);\n",
              "    fill: var(--disabled-fill-color);\n",
              "    box-shadow: none;\n",
              "  }\n",
              "\n",
              "  .colab-df-spinner {\n",
              "    border: 2px solid var(--fill-color);\n",
              "    border-color: transparent;\n",
              "    border-bottom-color: var(--fill-color);\n",
              "    animation:\n",
              "      spin 1s steps(1) infinite;\n",
              "  }\n",
              "\n",
              "  @keyframes spin {\n",
              "    0% {\n",
              "      border-color: transparent;\n",
              "      border-bottom-color: var(--fill-color);\n",
              "      border-left-color: var(--fill-color);\n",
              "    }\n",
              "    20% {\n",
              "      border-color: transparent;\n",
              "      border-left-color: var(--fill-color);\n",
              "      border-top-color: var(--fill-color);\n",
              "    }\n",
              "    30% {\n",
              "      border-color: transparent;\n",
              "      border-left-color: var(--fill-color);\n",
              "      border-top-color: var(--fill-color);\n",
              "      border-right-color: var(--fill-color);\n",
              "    }\n",
              "    40% {\n",
              "      border-color: transparent;\n",
              "      border-right-color: var(--fill-color);\n",
              "      border-top-color: var(--fill-color);\n",
              "    }\n",
              "    60% {\n",
              "      border-color: transparent;\n",
              "      border-right-color: var(--fill-color);\n",
              "    }\n",
              "    80% {\n",
              "      border-color: transparent;\n",
              "      border-right-color: var(--fill-color);\n",
              "      border-bottom-color: var(--fill-color);\n",
              "    }\n",
              "    90% {\n",
              "      border-color: transparent;\n",
              "      border-bottom-color: var(--fill-color);\n",
              "    }\n",
              "  }\n",
              "</style>\n",
              "\n",
              "  <script>\n",
              "    async function quickchart(key) {\n",
              "      const quickchartButtonEl =\n",
              "        document.querySelector('#' + key + ' button');\n",
              "      quickchartButtonEl.disabled = true;  // To prevent multiple clicks.\n",
              "      quickchartButtonEl.classList.add('colab-df-spinner');\n",
              "      try {\n",
              "        const charts = await google.colab.kernel.invokeFunction(\n",
              "            'suggestCharts', [key], {});\n",
              "      } catch (error) {\n",
              "        console.error('Error during call to suggestCharts:', error);\n",
              "      }\n",
              "      quickchartButtonEl.classList.remove('colab-df-spinner');\n",
              "      quickchartButtonEl.classList.add('colab-df-quickchart-complete');\n",
              "    }\n",
              "    (() => {\n",
              "      let quickchartButtonEl =\n",
              "        document.querySelector('#df-9a829510-af2f-44ea-815c-8e7726c096a2 button');\n",
              "      quickchartButtonEl.style.display =\n",
              "        google.colab.kernel.accessAllowed ? 'block' : 'none';\n",
              "    })();\n",
              "  </script>\n",
              "</div>\n",
              "\n",
              "    </div>\n",
              "  </div>\n"
            ],
            "text/plain": [
              "                                       Location  \\\n",
              "19995   5100 W  ADAMS                        BL   \n",
              "19996  16900    ROSCOE                       BL   \n",
              "19997   1000 S  SHENANDOAH                   ST   \n",
              "19998    300 W  SEPULVEDA                    ST   \n",
              "19999           DALTON                       AV   \n",
              "\n",
              "                          Cross_Street  Latitude  Longitude  \\\n",
              "19995                              NaN   34.0334  -118.3523   \n",
              "19996                              NaN   34.2212  -118.5011   \n",
              "19997                              NaN   34.0571  -118.3815   \n",
              "19998                              NaN   33.7451  -118.2835   \n",
              "19999  VERNON                       AV   34.0037  -118.3034   \n",
              "\n",
              "                Date_Reported           Date_Occurred  Time_Occurred  Area_ID  \\\n",
              "19995  05/24/2020 12:00:00 AM  05/24/2020 12:00:00 AM          700.0      3.0   \n",
              "19996  12/25/2020 12:00:00 AM  12/25/2020 12:00:00 AM          259.0     10.0   \n",
              "19997  09/25/2020 12:00:00 AM  09/25/2020 12:00:00 AM         1400.0      8.0   \n",
              "19998  06/10/2020 12:00:00 AM  06/10/2020 12:00:00 AM          600.0      5.0   \n",
              "19999  02/18/2020 12:00:00 AM  02/17/2020 12:00:00 AM         1800.0      3.0   \n",
              "\n",
              "         Area_Name  Reporting_District_no  ...  Victim_Age Victim_Sex  \\\n",
              "19995    Southwest                  303.0  ...        51.0          M   \n",
              "19996  West Valley                 1008.0  ...         0.0          M   \n",
              "19997      West LA                  849.0  ...        42.0          M   \n",
              "19998       Harbor                  558.0  ...        76.0          F   \n",
              "19999    Southwest                  397.0  ...         0.0        NaN   \n",
              "\n",
              "       Victim_Descent Premise_Code     Premise_Description  Weapon_Used_Code  \\\n",
              "19995               H        501.0  SINGLE FAMILY DWELLING             400.0   \n",
              "19996               W        301.0             GAS STATION               NaN   \n",
              "19997               H        102.0                SIDEWALK               NaN   \n",
              "19998               H        501.0  SINGLE FAMILY DWELLING               NaN   \n",
              "19999             NaN        101.0                  STREET               NaN   \n",
              "\n",
              "                                   Weapon_Description  Status  \\\n",
              "19995  STRONG-ARM (HANDS, FIST, FEET OR BODILY FORCE)      IC   \n",
              "19996                                             NaN      IC   \n",
              "19997                                             NaN      IC   \n",
              "19998                                             NaN      IC   \n",
              "19999                                             NaN      IC   \n",
              "\n",
              "      Status_Description               Crime_Category  \n",
              "19995        Invest Cont               Violent Crimes  \n",
              "19996        Invest Cont              Property Crimes  \n",
              "19997        Invest Cont              Property Crimes  \n",
              "19998        Invest Cont  Crimes against Public Order  \n",
              "19999        Invest Cont              Property Crimes  \n",
              "\n",
              "[5 rows x 22 columns]"
            ]
          },
          "execution_count": 9,
          "metadata": {},
          "output_type": "execute_result"
        }
      ],
      "source": [
        "df.tail()"
      ]
    },
    {
      "cell_type": "code",
      "execution_count": null,
      "metadata": {
        "colab": {
          "base_uri": "https://localhost:8080/"
        },
        "id": "qYWFzWhlKHR6",
        "outputId": "73c6cb8c-274a-4671-c42d-e7d858969a06"
      },
      "outputs": [
        {
          "name": "stdout",
          "output_type": "stream",
          "text": [
            "Location  :  12399\n",
            "Cross_Street  :  1495\n",
            "Latitude  :  3622\n",
            "Longitude  :  3578\n",
            "Date_Reported  :  811\n",
            "Date_Occurred  :  366\n",
            "Time_Occurred  :  996\n",
            "Area_ID  :  21\n",
            "Area_Name  :  21\n",
            "Reporting_District_no  :  1120\n",
            "Part 1-2  :  2\n",
            "Modus_Operandi  :  10489\n",
            "Victim_Age  :  100\n",
            "Victim_Sex  :  4\n",
            "Victim_Descent  :  17\n",
            "Premise_Code  :  217\n",
            "Premise_Description  :  216\n",
            "Weapon_Used_Code  :  57\n",
            "Weapon_Description  :  57\n",
            "Status  :  5\n",
            "Status_Description  :  5\n",
            "Crime_Category  :  6\n"
          ]
        }
      ],
      "source": [
        "for x in df:\n",
        "    print(x,\" : \",df[x].nunique())"
      ]
    },
    {
      "cell_type": "code",
      "execution_count": null,
      "metadata": {
        "colab": {
          "base_uri": "https://localhost:8080/"
        },
        "id": "wPjps8Q7KHR6",
        "outputId": "556f8d93-cc6a-4076-84db-56ea0141e2e0"
      },
      "outputs": [
        {
          "data": {
            "text/plain": [
              "Location                     0\n",
              "Cross_Street             16552\n",
              "Latitude                     0\n",
              "Longitude                    0\n",
              "Date_Reported                0\n",
              "Date_Occurred                0\n",
              "Time_Occurred                0\n",
              "Area_ID                      0\n",
              "Area_Name                    0\n",
              "Reporting_District_no        0\n",
              "Part 1-2                     0\n",
              "Modus_Operandi            2741\n",
              "Victim_Age                   0\n",
              "Victim_Sex                2624\n",
              "Victim_Descent            2624\n",
              "Premise_Code                 0\n",
              "Premise_Description          5\n",
              "Weapon_Used_Code         12665\n",
              "Weapon_Description       12665\n",
              "Status                       0\n",
              "Status_Description           0\n",
              "Crime_Category               0\n",
              "dtype: int64"
            ]
          },
          "execution_count": 11,
          "metadata": {},
          "output_type": "execute_result"
        }
      ],
      "source": [
        "df.isna().sum()"
      ]
    },
    {
      "cell_type": "code",
      "execution_count": null,
      "metadata": {
        "colab": {
          "base_uri": "https://localhost:8080/",
          "height": 300
        },
        "id": "VXU7Fng5KHR6",
        "outputId": "353742ef-8915-4607-a5a6-a6ef0fccdb91"
      },
      "outputs": [
        {
          "data": {
            "application/vnd.google.colaboratory.intrinsic+json": {
              "summary": "{\n  \"name\": \"df\",\n  \"rows\": 8,\n  \"fields\": [\n    {\n      \"column\": \"Latitude\",\n      \"properties\": {\n        \"dtype\": \"number\",\n        \"std\": 7062.364547448691,\n        \"min\": 0.0,\n        \"max\": 20000.0,\n        \"num_unique_values\": 8,\n        \"samples\": [\n          33.94070438,\n          34.0587,\n          20000.0\n        ],\n        \"semantic_type\": \"\",\n        \"description\": \"\"\n      }\n    },\n    {\n      \"column\": \"Longitude\",\n      \"properties\": {\n        \"dtype\": \"number\",\n        \"std\": 7100.788850955867,\n        \"min\": -118.6634,\n        \"max\": 20000.0,\n        \"num_unique_values\": 8,\n        \"samples\": [\n          -117.893072345,\n          -118.323,\n          20000.0\n        ],\n        \"semantic_type\": \"\",\n        \"description\": \"\"\n      }\n    },\n    {\n      \"column\": \"Time_Occurred\",\n      \"properties\": {\n        \"dtype\": \"number\",\n        \"std\": 6675.690236356402,\n        \"min\": 1.0,\n        \"max\": 20000.0,\n        \"num_unique_values\": 8,\n        \"samples\": [\n          1352.38035,\n          1430.0,\n          20000.0\n        ],\n        \"semantic_type\": \"\",\n        \"description\": \"\"\n      }\n    },\n    {\n      \"column\": \"Area_ID\",\n      \"properties\": {\n        \"dtype\": \"number\",\n        \"std\": 7067.440697435199,\n        \"min\": 1.0,\n        \"max\": 20000.0,\n        \"num_unique_values\": 8,\n        \"samples\": [\n          10.83425,\n          11.0,\n          20000.0\n        ],\n        \"semantic_type\": \"\",\n        \"description\": \"\"\n      }\n    },\n    {\n      \"column\": \"Reporting_District_no\",\n      \"properties\": {\n        \"dtype\": \"number\",\n        \"std\": 6726.18359410744,\n        \"min\": 101.0,\n        \"max\": 20000.0,\n        \"num_unique_values\": 8,\n        \"samples\": [\n          1129.5992,\n          1162.0,\n          20000.0\n        ],\n        \"semantic_type\": \"\",\n        \"description\": \"\"\n      }\n    },\n    {\n      \"column\": \"Part 1-2\",\n      \"properties\": {\n        \"dtype\": \"number\",\n        \"std\": 7070.61773660866,\n        \"min\": 0.49326741544233066,\n        \"max\": 20000.0,\n        \"num_unique_values\": 5,\n        \"samples\": [\n          1.41815,\n          2.0,\n          0.49326741544233066\n        ],\n        \"semantic_type\": \"\",\n        \"description\": \"\"\n      }\n    },\n    {\n      \"column\": \"Victim_Age\",\n      \"properties\": {\n        \"dtype\": \"number\",\n        \"std\": 7059.111017406064,\n        \"min\": -2.0,\n        \"max\": 20000.0,\n        \"num_unique_values\": 8,\n        \"samples\": [\n          30.135,\n          31.0,\n          20000.0\n        ],\n        \"semantic_type\": \"\",\n        \"description\": \"\"\n      }\n    },\n    {\n      \"column\": \"Premise_Code\",\n      \"properties\": {\n        \"dtype\": \"number\",\n        \"std\": 6956.532091463079,\n        \"min\": 101.0,\n        \"max\": 20000.0,\n        \"num_unique_values\": 7,\n        \"samples\": [\n          20000.0,\n          297.17695,\n          501.0\n        ],\n        \"semantic_type\": \"\",\n        \"description\": \"\"\n      }\n    },\n    {\n      \"column\": \"Weapon_Used_Code\",\n      \"properties\": {\n        \"dtype\": \"number\",\n        \"std\": 2485.4925592285012,\n        \"min\": 101.0,\n        \"max\": 7335.0,\n        \"num_unique_values\": 7,\n        \"samples\": [\n          7335.0,\n          366.40504430811177,\n          400.0\n        ],\n        \"semantic_type\": \"\",\n        \"description\": \"\"\n      }\n    }\n  ]\n}",
              "type": "dataframe"
            },
            "text/html": [
              "\n",
              "  <div id=\"df-f3a4391b-4d0f-4ec6-b804-3dbd829ae11d\" class=\"colab-df-container\">\n",
              "    <div>\n",
              "<style scoped>\n",
              "    .dataframe tbody tr th:only-of-type {\n",
              "        vertical-align: middle;\n",
              "    }\n",
              "\n",
              "    .dataframe tbody tr th {\n",
              "        vertical-align: top;\n",
              "    }\n",
              "\n",
              "    .dataframe thead th {\n",
              "        text-align: right;\n",
              "    }\n",
              "</style>\n",
              "<table border=\"1\" class=\"dataframe\">\n",
              "  <thead>\n",
              "    <tr style=\"text-align: right;\">\n",
              "      <th></th>\n",
              "      <th>Latitude</th>\n",
              "      <th>Longitude</th>\n",
              "      <th>Time_Occurred</th>\n",
              "      <th>Area_ID</th>\n",
              "      <th>Reporting_District_no</th>\n",
              "      <th>Part 1-2</th>\n",
              "      <th>Victim_Age</th>\n",
              "      <th>Premise_Code</th>\n",
              "      <th>Weapon_Used_Code</th>\n",
              "    </tr>\n",
              "  </thead>\n",
              "  <tbody>\n",
              "    <tr>\n",
              "      <th>count</th>\n",
              "      <td>20000.000000</td>\n",
              "      <td>20000.000000</td>\n",
              "      <td>20000.000000</td>\n",
              "      <td>20000.000000</td>\n",
              "      <td>20000.000000</td>\n",
              "      <td>20000.000000</td>\n",
              "      <td>20000.000000</td>\n",
              "      <td>20000.000000</td>\n",
              "      <td>7335.000000</td>\n",
              "    </tr>\n",
              "    <tr>\n",
              "      <th>mean</th>\n",
              "      <td>33.940704</td>\n",
              "      <td>-117.893072</td>\n",
              "      <td>1352.380350</td>\n",
              "      <td>10.834250</td>\n",
              "      <td>1129.599200</td>\n",
              "      <td>1.418150</td>\n",
              "      <td>30.135000</td>\n",
              "      <td>297.176950</td>\n",
              "      <td>366.405044</td>\n",
              "    </tr>\n",
              "    <tr>\n",
              "      <th>std</th>\n",
              "      <td>2.126810</td>\n",
              "      <td>7.377726</td>\n",
              "      <td>646.100291</td>\n",
              "      <td>6.033166</td>\n",
              "      <td>603.330519</td>\n",
              "      <td>0.493267</td>\n",
              "      <td>21.863645</td>\n",
              "      <td>212.007298</td>\n",
              "      <td>120.485687</td>\n",
              "    </tr>\n",
              "    <tr>\n",
              "      <th>min</th>\n",
              "      <td>0.000000</td>\n",
              "      <td>-118.663400</td>\n",
              "      <td>1.000000</td>\n",
              "      <td>1.000000</td>\n",
              "      <td>101.000000</td>\n",
              "      <td>1.000000</td>\n",
              "      <td>-2.000000</td>\n",
              "      <td>101.000000</td>\n",
              "      <td>101.000000</td>\n",
              "    </tr>\n",
              "    <tr>\n",
              "      <th>25%</th>\n",
              "      <td>34.009200</td>\n",
              "      <td>-118.429700</td>\n",
              "      <td>930.000000</td>\n",
              "      <td>6.000000</td>\n",
              "      <td>632.000000</td>\n",
              "      <td>1.000000</td>\n",
              "      <td>12.000000</td>\n",
              "      <td>101.000000</td>\n",
              "      <td>312.000000</td>\n",
              "    </tr>\n",
              "    <tr>\n",
              "      <th>50%</th>\n",
              "      <td>34.058700</td>\n",
              "      <td>-118.323000</td>\n",
              "      <td>1430.000000</td>\n",
              "      <td>11.000000</td>\n",
              "      <td>1162.000000</td>\n",
              "      <td>1.000000</td>\n",
              "      <td>31.000000</td>\n",
              "      <td>203.000000</td>\n",
              "      <td>400.000000</td>\n",
              "    </tr>\n",
              "    <tr>\n",
              "      <th>75%</th>\n",
              "      <td>34.165025</td>\n",
              "      <td>-118.274400</td>\n",
              "      <td>1900.000000</td>\n",
              "      <td>16.000000</td>\n",
              "      <td>1622.000000</td>\n",
              "      <td>2.000000</td>\n",
              "      <td>46.000000</td>\n",
              "      <td>501.000000</td>\n",
              "      <td>400.000000</td>\n",
              "    </tr>\n",
              "    <tr>\n",
              "      <th>max</th>\n",
              "      <td>34.328100</td>\n",
              "      <td>0.000000</td>\n",
              "      <td>2359.000000</td>\n",
              "      <td>21.000000</td>\n",
              "      <td>2197.000000</td>\n",
              "      <td>2.000000</td>\n",
              "      <td>99.000000</td>\n",
              "      <td>969.000000</td>\n",
              "      <td>515.000000</td>\n",
              "    </tr>\n",
              "  </tbody>\n",
              "</table>\n",
              "</div>\n",
              "    <div class=\"colab-df-buttons\">\n",
              "\n",
              "  <div class=\"colab-df-container\">\n",
              "    <button class=\"colab-df-convert\" onclick=\"convertToInteractive('df-f3a4391b-4d0f-4ec6-b804-3dbd829ae11d')\"\n",
              "            title=\"Convert this dataframe to an interactive table.\"\n",
              "            style=\"display:none;\">\n",
              "\n",
              "  <svg xmlns=\"http://www.w3.org/2000/svg\" height=\"24px\" viewBox=\"0 -960 960 960\">\n",
              "    <path d=\"M120-120v-720h720v720H120Zm60-500h600v-160H180v160Zm220 220h160v-160H400v160Zm0 220h160v-160H400v160ZM180-400h160v-160H180v160Zm440 0h160v-160H620v160ZM180-180h160v-160H180v160Zm440 0h160v-160H620v160Z\"/>\n",
              "  </svg>\n",
              "    </button>\n",
              "\n",
              "  <style>\n",
              "    .colab-df-container {\n",
              "      display:flex;\n",
              "      gap: 12px;\n",
              "    }\n",
              "\n",
              "    .colab-df-convert {\n",
              "      background-color: #E8F0FE;\n",
              "      border: none;\n",
              "      border-radius: 50%;\n",
              "      cursor: pointer;\n",
              "      display: none;\n",
              "      fill: #1967D2;\n",
              "      height: 32px;\n",
              "      padding: 0 0 0 0;\n",
              "      width: 32px;\n",
              "    }\n",
              "\n",
              "    .colab-df-convert:hover {\n",
              "      background-color: #E2EBFA;\n",
              "      box-shadow: 0px 1px 2px rgba(60, 64, 67, 0.3), 0px 1px 3px 1px rgba(60, 64, 67, 0.15);\n",
              "      fill: #174EA6;\n",
              "    }\n",
              "\n",
              "    .colab-df-buttons div {\n",
              "      margin-bottom: 4px;\n",
              "    }\n",
              "\n",
              "    [theme=dark] .colab-df-convert {\n",
              "      background-color: #3B4455;\n",
              "      fill: #D2E3FC;\n",
              "    }\n",
              "\n",
              "    [theme=dark] .colab-df-convert:hover {\n",
              "      background-color: #434B5C;\n",
              "      box-shadow: 0px 1px 3px 1px rgba(0, 0, 0, 0.15);\n",
              "      filter: drop-shadow(0px 1px 2px rgba(0, 0, 0, 0.3));\n",
              "      fill: #FFFFFF;\n",
              "    }\n",
              "  </style>\n",
              "\n",
              "    <script>\n",
              "      const buttonEl =\n",
              "        document.querySelector('#df-f3a4391b-4d0f-4ec6-b804-3dbd829ae11d button.colab-df-convert');\n",
              "      buttonEl.style.display =\n",
              "        google.colab.kernel.accessAllowed ? 'block' : 'none';\n",
              "\n",
              "      async function convertToInteractive(key) {\n",
              "        const element = document.querySelector('#df-f3a4391b-4d0f-4ec6-b804-3dbd829ae11d');\n",
              "        const dataTable =\n",
              "          await google.colab.kernel.invokeFunction('convertToInteractive',\n",
              "                                                    [key], {});\n",
              "        if (!dataTable) return;\n",
              "\n",
              "        const docLinkHtml = 'Like what you see? Visit the ' +\n",
              "          '<a target=\"_blank\" href=https://colab.research.google.com/notebooks/data_table.ipynb>data table notebook</a>'\n",
              "          + ' to learn more about interactive tables.';\n",
              "        element.innerHTML = '';\n",
              "        dataTable['output_type'] = 'display_data';\n",
              "        await google.colab.output.renderOutput(dataTable, element);\n",
              "        const docLink = document.createElement('div');\n",
              "        docLink.innerHTML = docLinkHtml;\n",
              "        element.appendChild(docLink);\n",
              "      }\n",
              "    </script>\n",
              "  </div>\n",
              "\n",
              "\n",
              "<div id=\"df-175febe6-7f00-4692-81cf-b1569ea9b013\">\n",
              "  <button class=\"colab-df-quickchart\" onclick=\"quickchart('df-175febe6-7f00-4692-81cf-b1569ea9b013')\"\n",
              "            title=\"Suggest charts\"\n",
              "            style=\"display:none;\">\n",
              "\n",
              "<svg xmlns=\"http://www.w3.org/2000/svg\" height=\"24px\"viewBox=\"0 0 24 24\"\n",
              "     width=\"24px\">\n",
              "    <g>\n",
              "        <path d=\"M19 3H5c-1.1 0-2 .9-2 2v14c0 1.1.9 2 2 2h14c1.1 0 2-.9 2-2V5c0-1.1-.9-2-2-2zM9 17H7v-7h2v7zm4 0h-2V7h2v10zm4 0h-2v-4h2v4z\"/>\n",
              "    </g>\n",
              "</svg>\n",
              "  </button>\n",
              "\n",
              "<style>\n",
              "  .colab-df-quickchart {\n",
              "      --bg-color: #E8F0FE;\n",
              "      --fill-color: #1967D2;\n",
              "      --hover-bg-color: #E2EBFA;\n",
              "      --hover-fill-color: #174EA6;\n",
              "      --disabled-fill-color: #AAA;\n",
              "      --disabled-bg-color: #DDD;\n",
              "  }\n",
              "\n",
              "  [theme=dark] .colab-df-quickchart {\n",
              "      --bg-color: #3B4455;\n",
              "      --fill-color: #D2E3FC;\n",
              "      --hover-bg-color: #434B5C;\n",
              "      --hover-fill-color: #FFFFFF;\n",
              "      --disabled-bg-color: #3B4455;\n",
              "      --disabled-fill-color: #666;\n",
              "  }\n",
              "\n",
              "  .colab-df-quickchart {\n",
              "    background-color: var(--bg-color);\n",
              "    border: none;\n",
              "    border-radius: 50%;\n",
              "    cursor: pointer;\n",
              "    display: none;\n",
              "    fill: var(--fill-color);\n",
              "    height: 32px;\n",
              "    padding: 0;\n",
              "    width: 32px;\n",
              "  }\n",
              "\n",
              "  .colab-df-quickchart:hover {\n",
              "    background-color: var(--hover-bg-color);\n",
              "    box-shadow: 0 1px 2px rgba(60, 64, 67, 0.3), 0 1px 3px 1px rgba(60, 64, 67, 0.15);\n",
              "    fill: var(--button-hover-fill-color);\n",
              "  }\n",
              "\n",
              "  .colab-df-quickchart-complete:disabled,\n",
              "  .colab-df-quickchart-complete:disabled:hover {\n",
              "    background-color: var(--disabled-bg-color);\n",
              "    fill: var(--disabled-fill-color);\n",
              "    box-shadow: none;\n",
              "  }\n",
              "\n",
              "  .colab-df-spinner {\n",
              "    border: 2px solid var(--fill-color);\n",
              "    border-color: transparent;\n",
              "    border-bottom-color: var(--fill-color);\n",
              "    animation:\n",
              "      spin 1s steps(1) infinite;\n",
              "  }\n",
              "\n",
              "  @keyframes spin {\n",
              "    0% {\n",
              "      border-color: transparent;\n",
              "      border-bottom-color: var(--fill-color);\n",
              "      border-left-color: var(--fill-color);\n",
              "    }\n",
              "    20% {\n",
              "      border-color: transparent;\n",
              "      border-left-color: var(--fill-color);\n",
              "      border-top-color: var(--fill-color);\n",
              "    }\n",
              "    30% {\n",
              "      border-color: transparent;\n",
              "      border-left-color: var(--fill-color);\n",
              "      border-top-color: var(--fill-color);\n",
              "      border-right-color: var(--fill-color);\n",
              "    }\n",
              "    40% {\n",
              "      border-color: transparent;\n",
              "      border-right-color: var(--fill-color);\n",
              "      border-top-color: var(--fill-color);\n",
              "    }\n",
              "    60% {\n",
              "      border-color: transparent;\n",
              "      border-right-color: var(--fill-color);\n",
              "    }\n",
              "    80% {\n",
              "      border-color: transparent;\n",
              "      border-right-color: var(--fill-color);\n",
              "      border-bottom-color: var(--fill-color);\n",
              "    }\n",
              "    90% {\n",
              "      border-color: transparent;\n",
              "      border-bottom-color: var(--fill-color);\n",
              "    }\n",
              "  }\n",
              "</style>\n",
              "\n",
              "  <script>\n",
              "    async function quickchart(key) {\n",
              "      const quickchartButtonEl =\n",
              "        document.querySelector('#' + key + ' button');\n",
              "      quickchartButtonEl.disabled = true;  // To prevent multiple clicks.\n",
              "      quickchartButtonEl.classList.add('colab-df-spinner');\n",
              "      try {\n",
              "        const charts = await google.colab.kernel.invokeFunction(\n",
              "            'suggestCharts', [key], {});\n",
              "      } catch (error) {\n",
              "        console.error('Error during call to suggestCharts:', error);\n",
              "      }\n",
              "      quickchartButtonEl.classList.remove('colab-df-spinner');\n",
              "      quickchartButtonEl.classList.add('colab-df-quickchart-complete');\n",
              "    }\n",
              "    (() => {\n",
              "      let quickchartButtonEl =\n",
              "        document.querySelector('#df-175febe6-7f00-4692-81cf-b1569ea9b013 button');\n",
              "      quickchartButtonEl.style.display =\n",
              "        google.colab.kernel.accessAllowed ? 'block' : 'none';\n",
              "    })();\n",
              "  </script>\n",
              "</div>\n",
              "\n",
              "    </div>\n",
              "  </div>\n"
            ],
            "text/plain": [
              "           Latitude     Longitude  Time_Occurred       Area_ID  \\\n",
              "count  20000.000000  20000.000000   20000.000000  20000.000000   \n",
              "mean      33.940704   -117.893072    1352.380350     10.834250   \n",
              "std        2.126810      7.377726     646.100291      6.033166   \n",
              "min        0.000000   -118.663400       1.000000      1.000000   \n",
              "25%       34.009200   -118.429700     930.000000      6.000000   \n",
              "50%       34.058700   -118.323000    1430.000000     11.000000   \n",
              "75%       34.165025   -118.274400    1900.000000     16.000000   \n",
              "max       34.328100      0.000000    2359.000000     21.000000   \n",
              "\n",
              "       Reporting_District_no      Part 1-2    Victim_Age  Premise_Code  \\\n",
              "count           20000.000000  20000.000000  20000.000000  20000.000000   \n",
              "mean             1129.599200      1.418150     30.135000    297.176950   \n",
              "std               603.330519      0.493267     21.863645    212.007298   \n",
              "min               101.000000      1.000000     -2.000000    101.000000   \n",
              "25%               632.000000      1.000000     12.000000    101.000000   \n",
              "50%              1162.000000      1.000000     31.000000    203.000000   \n",
              "75%              1622.000000      2.000000     46.000000    501.000000   \n",
              "max              2197.000000      2.000000     99.000000    969.000000   \n",
              "\n",
              "       Weapon_Used_Code  \n",
              "count       7335.000000  \n",
              "mean         366.405044  \n",
              "std          120.485687  \n",
              "min          101.000000  \n",
              "25%          312.000000  \n",
              "50%          400.000000  \n",
              "75%          400.000000  \n",
              "max          515.000000  "
            ]
          },
          "execution_count": 12,
          "metadata": {},
          "output_type": "execute_result"
        }
      ],
      "source": [
        "df.describe()"
      ]
    },
    {
      "cell_type": "code",
      "execution_count": null,
      "metadata": {
        "id": "gNKzEa5xKHR6"
      },
      "outputs": [],
      "source": []
    },
    {
      "cell_type": "markdown",
      "metadata": {
        "id": "4oEqeKkMKHR6"
      },
      "source": [
        "# ***MAKING HOMOGENOUS DATA***"
      ]
    },
    {
      "cell_type": "code",
      "execution_count": null,
      "metadata": {
        "colab": {
          "base_uri": "https://localhost:8080/"
        },
        "id": "4sFblWxwKHR6",
        "outputId": "95d69feb-1047-4fce-d2f4-b361768f2776"
      },
      "outputs": [
        {
          "data": {
            "text/plain": [
              "0              M\n",
              "1              M\n",
              "2              M\n",
              "3              M\n",
              "4              X\n",
              "          ...   \n",
              "19995          M\n",
              "19996          M\n",
              "19997          M\n",
              "19998          F\n",
              "19999    Missing\n",
              "Name: Victim_Sex, Length: 20000, dtype: object"
            ]
          },
          "execution_count": 13,
          "metadata": {},
          "output_type": "execute_result"
        }
      ],
      "source": [
        "df['Victim_Sex'].fillna('Missing')\n"
      ]
    },
    {
      "cell_type": "code",
      "execution_count": null,
      "metadata": {
        "id": "Rgt4FlrtKHR6"
      },
      "outputs": [],
      "source": [
        "lb = LabelEncoder()\n",
        "df['Crime_encoded'] = lb.fit_transform(df['Crime_Category'])\n",
        "mapping=dict(zip(df['Crime_encoded'],df['Crime_Category']))\n",
        "df['Sex_encoded'] = lb.fit_transform(df['Victim_Sex'])\n",
        "x_test['Sex_encoded'] = lb.fit_transform(x_test['Victim_Sex'])\n",
        "df['Area_id_en'] = lb.fit_transform(df['Area_ID'])\n",
        "x_test['Area_id_en'] = lb.fit_transform(x_test['Area_ID'])\n",
        "df['Area_name_en'] = lb.fit_transform(df['Area_Name'])\n",
        "x_test['Area_name_en'] = lb.fit_transform(x_test['Area_Name'])\n",
        "df['Weapon_Used_Code_en'] = lb.fit_transform(df['Weapon_Used_Code'])\n",
        "x_test['Weapon_Used_Code_en'] = lb.fit_transform(x_test['Weapon_Used_Code'])\n",
        "df['Weapon_Description_en'] = lb.fit_transform(df['Weapon_Description'])\n",
        "x_test['Weapon_Description_en'] = lb.fit_transform(x_test['Weapon_Description'])\n",
        "df['Status_en'] = lb.fit_transform(df['Status'])\n",
        "x_test['Status_en'] = lb.fit_transform(x_test['Status'])\n",
        "df['Status_Description_en'] = lb.fit_transform(df['Status_Description'])\n",
        "x_test['Status_Description_en'] = lb.fit_transform(x_test['Status_Description'])\n",
        "df['Part 1-2_en'] = lb.fit_transform(df['Part 1-2'])\n",
        "x_test['Part 1-2_en'] = lb.fit_transform(x_test['Part 1-2'])\n",
        "df['Victim_Descent_en'] = lb.fit_transform(df['Victim_Descent'])\n",
        "x_test['Victim_Descent_en'] = lb.fit_transform(x_test['Victim_Descent'])\n",
        "df['Victim_Age_en'] = lb.fit_transform(df['Victim_Age'])\n",
        "x_test['Victim_Age_en'] = lb.fit_transform(x_test['Victim_Age'])\n",
        "df['Victim_Sex_en'] = lb.fit_transform(df['Victim_Sex'])\n",
        "x_test['Victim_Sex_en'] = lb.fit_transform(x_test['Victim_Sex'])\n",
        "df['Premise_Code_en'] = lb.fit_transform(df['Premise_Code'])\n",
        "x_test['Premise_Code_en'] = lb.fit_transform(x_test['Premise_Code'])\n",
        "df['Premise_Description_en'] = lb.fit_transform(df['Premise_Description'])\n",
        "x_test['Premise_Description_en'] = lb.fit_transform(x_test['Premise_Description'])\n",
        "#labels = df[\"Crime_encoded\"]"
      ]
    },
    {
      "cell_type": "markdown",
      "metadata": {
        "id": "yP9h_HmxKHR7"
      },
      "source": [
        "# ***KNN IMPUTER***"
      ]
    },
    {
      "cell_type": "code",
      "execution_count": null,
      "metadata": {
        "id": "uQO2447KKHR7"
      },
      "outputs": [],
      "source": [
        "imputer1 = KNNImputer()"
      ]
    },
    {
      "cell_type": "code",
      "execution_count": null,
      "metadata": {
        "id": "6UoXLlWdKHR7"
      },
      "outputs": [],
      "source": [
        "x = [\"Victim_Sex_en\",\"Crime_encoded\"]\n",
        "df['Victim_Sex_en'].replace('Missing', np.nan)\n",
        "df[x] = imputer1.fit_transform(df[x])"
      ]
    },
    {
      "cell_type": "code",
      "execution_count": null,
      "metadata": {
        "id": "2-cMKgSxKHR7"
      },
      "outputs": [],
      "source": []
    },
    {
      "cell_type": "markdown",
      "metadata": {
        "id": "oSXvHqLjKHR7"
      },
      "source": [
        "# ***DELETING EXTRA FEATURES***"
      ]
    },
    {
      "cell_type": "code",
      "execution_count": null,
      "metadata": {
        "id": "bRgtsuFBKHR7"
      },
      "outputs": [],
      "source": [
        "a = [\"Crime_Category\"]\n",
        "drop1 =[\"Cross_Street\",\"Victim_Sex\",\"Location\",\"Date_Reported\"\n",
        "        ,\"Date_Occurred\",\"Time_Occurred\",\"Area_ID\",\"Area_Name\"\n",
        "       ,\"Weapon_Used_Code\",\"Weapon_Description\",\"Status\",\"Status_Description\"\n",
        "       ,\"Latitude\",\"Longitude\",\"Reporting_District_no\",\"Modus_Operandi\"\n",
        "       ,\"Part 1-2\",\"Victim_Descent\",\"Victim_Age\",\n",
        "        \"Premise_Code\",\"Premise_Description\",\"Status_en\"]\n",
        "drop2 = drop1+a\n",
        "df = df.drop(drop2,axis=1)\n",
        "x_test = x_test.drop(drop1,axis=1)"
      ]
    },
    {
      "cell_type": "code",
      "execution_count": null,
      "metadata": {
        "colab": {
          "base_uri": "https://localhost:8080/",
          "height": 827
        },
        "id": "rtoysmClKHR7",
        "outputId": "2ffcef20-e38d-4a19-d77b-ede2afa44ff2"
      },
      "outputs": [
        {
          "data": {
            "text/plain": [
              "<Axes: >"
            ]
          },
          "execution_count": 18,
          "metadata": {},
          "output_type": "execute_result"
        },
        {
          "data": {
            "image/png": "[encoded data removed]",
            "text/plain": [
              "<Figure size 1400x800 with 2 Axes>"
            ]
          },
          "metadata": {},
          "output_type": "display_data"
        }
      ],
      "source": [
        "cor = df.corr()\n",
        "plt.figure(figsize = (14,8))\n",
        "sns.heatmap(cor,annot=True)"
      ]
    },
    {
      "cell_type": "markdown",
      "metadata": {
        "id": "etgYAB8QKHR7"
      },
      "source": [
        "# ***SPLITTING THE DATA***"
      ]
    },
    {
      "cell_type": "code",
      "execution_count": null,
      "metadata": {
        "id": "bpxIxufAKHR7"
      },
      "outputs": [],
      "source": [
        "split = StratifiedShuffleSplit(n_splits=1,test_size=0.10,random_state=42)\n",
        "for train_t,test_t in split.split(df,df[\"Crime_encoded\"]):\n",
        "    st_train = df.loc[train_t]\n",
        "    st_test = df.loc[test_t]"
      ]
    },
    {
      "cell_type": "markdown",
      "metadata": {
        "id": "IpZoJldiKHR7"
      },
      "source": [
        "# ***DIVIDING INTO TEST AND TRAIN***"
      ]
    },
    {
      "cell_type": "code",
      "execution_count": null,
      "metadata": {
        "id": "8sWORO27KHR7"
      },
      "outputs": [],
      "source": [
        "st_train_x = df.drop(\"Crime_encoded\",axis=1)\n",
        "st_train_y = df[\"Crime_encoded\"]\n",
        "st_test_x = st_test.drop(\"Crime_encoded\",axis=1)\n",
        "st_test_y = st_test[\"Crime_encoded\"]"
      ]
    },
    {
      "cell_type": "markdown",
      "metadata": {
        "id": "1nWKiXC6KHR7"
      },
      "source": [
        "# ***DUMMY MODEL***"
      ]
    },
    {
      "cell_type": "code",
      "execution_count": null,
      "metadata": {
        "colab": {
          "base_uri": "https://localhost:8080/"
        },
        "id": "wFko_5XuKHR8",
        "outputId": "35cf7adb-2709-40bb-d33d-0a0703c2f329"
      },
      "outputs": [
        {
          "data": {
            "text/plain": [
              "0.5835"
            ]
          },
          "execution_count": 21,
          "metadata": {},
          "output_type": "execute_result"
        }
      ],
      "source": [
        "from sklearn.dummy import DummyClassifier\n",
        "model = DummyClassifier(strategy=\"most_frequent\")\n",
        "model.fit(st_train_x,st_train_y)\n",
        "te_pre0 = model.predict(st_test_x)\n",
        "acc=accuracy_score(st_test_y, te_pre0)\n",
        "acc"
      ]
    },
    {
      "cell_type": "markdown",
      "metadata": {
        "id": "VPrY7b7PKHR8"
      },
      "source": [
        "# ***FIRST MODEL MLP CLASSIFIER***"
      ]
    },
    {
      "cell_type": "code",
      "execution_count": null,
      "metadata": {
        "colab": {
          "base_uri": "https://localhost:8080/"
        },
        "id": "kfa47kmrKHR8",
        "outputId": "b2d22df1-e181-40a6-ddf5-32c9a0ddfdc0"
      },
      "outputs": [
        {
          "data": {
            "text/plain": [
              "0.8205"
            ]
          },
          "execution_count": 22,
          "metadata": {},
          "output_type": "execute_result"
        }
      ],
      "source": [
        "model1 = MLPClassifier()\n",
        "model1.fit(st_train_x,st_train_y)\n",
        "te_pre1 = model1.predict(st_test_x)\n",
        "acc=accuracy_score(st_test_y, te_pre1)\n",
        "acc"
      ]
    },
    {
      "cell_type": "markdown",
      "metadata": {
        "id": "7X4TAIqLKHR8"
      },
      "source": [
        "# ***SECOND MODEL RANDOM FOREST***"
      ]
    },
    {
      "cell_type": "code",
      "execution_count": null,
      "metadata": {
        "colab": {
          "base_uri": "https://localhost:8080/"
        },
        "id": "BJ4myBPFKHR8",
        "outputId": "edceae3d-8077-4da8-cc9b-f4e2a5dee590"
      },
      "outputs": [
        {
          "data": {
            "text/plain": [
              "0.994"
            ]
          },
          "execution_count": 23,
          "metadata": {},
          "output_type": "execute_result"
        }
      ],
      "source": [
        "model2 = RandomForestClassifier()\n",
        "model2.fit(st_train_x,st_train_y)\n",
        "te_pre2 = model2.predict(st_test_x)\n",
        "acc=accuracy_score(st_test_y, te_pre2)\n",
        "acc"
      ]
    },
    {
      "cell_type": "code",
      "execution_count": null,
      "metadata": {
        "colab": {
          "base_uri": "https://localhost:8080/"
        },
        "id": "1ho7WmCuoFxD",
        "outputId": "a344bc48-0722-495b-bcbd-bdf0bbed8667"
      },
      "outputs": [
        {
          "name": "stdout",
          "output_type": "stream",
          "text": [
            "Best Hyperparameters: {'bootstrap': True, 'max_depth': None, 'min_samples_leaf': 4, 'min_samples_split': 10, 'n_estimators': 200}\n",
            "Best Cross-Validation Accuracy: 0.8606\n",
            "Test Set Accuracy: 0.8955\n"
          ]
        }
      ],
      "source": [
        "model2 = RandomForestClassifier()\n",
        "param_grid = {\n",
        "    'n_estimators': [50, 100, 200],\n",
        "    'max_depth': [None, 10, 20, 30],\n",
        "    'min_samples_split': [2, 5, 10],\n",
        "    'min_samples_leaf': [1, 2, 4],\n",
        "    'bootstrap': [True, False]\n",
        "}\n",
        "grid_search = GridSearchCV(RandomForestClassifier(random_state=42), param_grid, cv=5, scoring='accuracy')\n",
        "grid_search.fit(st_train_x, st_train_y)\n",
        "best_params = grid_search.best_params_\n",
        "best_score = grid_search.best_score_\n",
        "print(f\"Best Hyperparameters: {best_params}\")\n",
        "print(f\"Best Cross-Validation Accuracy: {best_score:.4f}\")\n",
        "best_rf = grid_search.best_estimator_\n",
        "test_accuracy = accuracy_score(st_test_y, best_rf.predict(st_test_x))\n",
        "print(f\"Test Set Accuracy: {test_accuracy:.4f}\")"
      ]
    },
    {
      "cell_type": "markdown",
      "metadata": {
        "id": "M4YyndvuKHR8"
      },
      "source": [
        "# ***THIRD MODEL SVC***"
      ]
    },
    {
      "cell_type": "code",
      "execution_count": null,
      "metadata": {
        "colab": {
          "base_uri": "https://localhost:8080/"
        },
        "id": "9COMClerKHR8",
        "outputId": "2324e07e-68f7-4253-b320-7eddebd3bf35"
      },
      "outputs": [
        {
          "data": {
            "text/plain": [
              "0.754"
            ]
          },
          "execution_count": 25,
          "metadata": {},
          "output_type": "execute_result"
        }
      ],
      "source": [
        "model3 = SVC()\n",
        "model3.fit(st_train_x,st_train_y)\n",
        "te_pre3 = model3.predict(st_test_x)\n",
        "acc=accuracy_score(st_test_y, te_pre3)\n",
        "acc"
      ]
    },
    {
      "cell_type": "code",
      "execution_count": null,
      "metadata": {
        "colab": {
          "background_save": true
        },
        "id": "ulE9JTJJoJPT",
        "outputId": "1f47a343-0e94-41e2-adfe-7e3a18fbd5a5"
      },
      "outputs": [
        {
          "name": "stdout",
          "output_type": "stream",
          "text": [
            "Best Hyperparameters: {'C': 100, 'gamma': 0.0001, 'kernel': 'rbf'}\n",
            "Best Cross-Validation Accuracy: 0.8280\n",
            "Test Set Accuracy: 0.8430\n"
          ]
        }
      ],
      "source": [
        "model3 = SVC()\n",
        "param_grid = {\n",
        "    'C': [0.1, 1, 10, 100],\n",
        "    'gamma': [1e-3, 1e-4, 1e-5],\n",
        "    'kernel': ['rbf']\n",
        "}\n",
        "grid_search = GridSearchCV(SVC(), param_grid, cv=5, scoring='accuracy')\n",
        "grid_search.fit(st_train_x, st_train_y)\n",
        "best_params = grid_search.best_params_\n",
        "best_score = grid_search.best_score_\n",
        "print(f\"Best Hyperparameters: {best_params}\")\n",
        "print(f\"Best Cross-Validation Accuracy: {best_score:.4f}\")\n",
        "best_svm = grid_search.best_estimator_\n",
        "test_accuracy = accuracy_score(st_test_y, best_svm.predict(st_test_x))\n",
        "print(f\"Test Set Accuracy: {test_accuracy:.4f}\")"
      ]
    },
    {
      "cell_type": "markdown",
      "metadata": {
        "id": "J6OqyESoKHR8"
      },
      "source": [
        "# ***FOURTH MODEL KNNCLASSIFIER***"
      ]
    },
    {
      "cell_type": "code",
      "execution_count": null,
      "metadata": {
        "colab": {
          "background_save": true
        },
        "id": "pHorwPgKKHR8",
        "outputId": "17bf9d54-7ee1-45d1-9f59-5fd3a457a092"
      },
      "outputs": [
        {
          "data": {
            "text/plain": [
              "0.822"
            ]
          },
          "execution_count": 27,
          "metadata": {},
          "output_type": "execute_result"
        }
      ],
      "source": [
        "model4 = KNeighborsClassifier()\n",
        "model4.fit(st_train_x,st_train_y)\n",
        "te_pre4 = model4.predict(st_test_x)\n",
        "acc=accuracy_score(st_test_y, te_pre4)\n",
        "acc"
      ]
    },
    {
      "cell_type": "code",
      "execution_count": null,
      "metadata": {
        "colab": {
          "background_save": true
        },
        "id": "R6gmtvwtnukX",
        "outputId": "602664a3-d124-40ff-c9a7-34c4bf0e34c8"
      },
      "outputs": [
        {
          "name": "stdout",
          "output_type": "stream",
          "text": [
            "Best Hyperparameters: {'n_neighbors': 13}\n",
            "Best Cross-Validation Accuracy: 0.7637\n",
            "Test Set Accuracy: 0.7990\n"
          ]
        }
      ],
      "source": [
        "model4 = KNeighborsClassifier()\n",
        "param_grid = {\n",
        "    'n_neighbors': [1, 3, 5, 7, 9, 11, 13, 15, 17, 19, 21]\n",
        "}\n",
        "grid_search = GridSearchCV(model4, param_grid, cv=5, scoring='accuracy')\n",
        "grid_search.fit(st_train_x, st_train_y)\n",
        "best_params = grid_search.best_params_\n",
        "best_score = grid_search.best_score_\n",
        "\n",
        "print(f\"Best Hyperparameters: {best_params}\")\n",
        "print(f\"Best Cross-Validation Accuracy: {best_score:.4f}\")\n",
        "best_knn = grid_search.best_estimator_\n",
        "test_accuracy = accuracy_score(st_test_y, best_knn.predict(st_test_x))\n",
        "print(f\"Test Set Accuracy: {test_accuracy:.4f}\")"
      ]
    },
    {
      "cell_type": "code",
      "execution_count": null,
      "metadata": {
        "colab": {
          "background_save": true
        },
        "id": "lu3I94dEMQns"
      },
      "outputs": [],
      "source": []
    }
  ],
  "metadata": {
    "colab": {
      "provenance": [],
      "include_colab_link": true
    },
    "kaggle": {
      "accelerator": "none",
      "dataSources": [
        {
          "databundleVersionId": 8446444,
          "sourceId": 77420,
          "sourceType": "competition"
        }
      ],
      "dockerImageVersionId": 30732,
      "isGpuEnabled": false,
      "isInternetEnabled": false,
      "language": "python",
      "sourceType": "notebook"
    },
    "kernelspec": {
      "display_name": "Python 3",
      "language": "python",
      "name": "python3"
    },
    "language_info": {
      "codemirror_mode": {
        "name": "ipython",
        "version": 3
      },
      "file_extension": ".py",
      "mimetype": "text/x-python",
      "name": "python",
      "nbconvert_exporter": "python",
      "pygments_lexer": "ipython3",
      "version": "3.10.13"
    }
  },
  "nbformat": 4,
  "nbformat_minor": 0
}